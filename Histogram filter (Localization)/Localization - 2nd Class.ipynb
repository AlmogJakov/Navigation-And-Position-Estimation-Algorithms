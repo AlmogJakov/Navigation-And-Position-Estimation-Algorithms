{
 "cells": [
  {
   "cell_type": "code",
   "execution_count": 11,
   "metadata": {},
   "outputs": [
    {
     "name": "stdout",
     "output_type": "stream",
     "text": [
      "[0.04000000000000001, 0.12, 0.12, 0.04000000000000001, 0.04000000000000001]\n"
     ]
    }
   ],
   "source": [
    "p = [0.2, 0.2, 0.2, 0.2, 0.2]\n",
    "world = ['green', 'red', 'red', 'green', 'green']\n",
    "Z = 'red'\n",
    "pHit = 0.6\n",
    "pMiss = 0.2\n",
    "def sense(p, Z):\n",
    "    q=[]\n",
    "    for i in range(len(p)):\n",
    "            hit = (Z == world[i])\n",
    "            q.append(p[i] * (hit * pHit + (1-hit)* pMiss))\n",
    "    return q\n",
    "\n",
    "print(sense(p, Z))"
   ]
  },
  {
   "cell_type": "code",
   "execution_count": null,
   "metadata": {},
   "outputs": [],
   "source": []
  },
  {
   "cell_type": "code",
   "execution_count": 10,
   "metadata": {},
   "outputs": [
    {
     "name": "stdout",
     "output_type": "stream",
     "text": [
      "[0.0025960138850606336, 0.49610597917240895, 0.49610597917240895, 0.0025960138850606336, 0.0025960138850606336]\n",
      "[0.06887052341597796, 0.39669421487603307, 0.39669421487603307, 0.06887052341597796, 0.06887052341597796]\n"
     ]
    }
   ],
   "source": [
    "#Normalized Probability:\n",
    "\n",
    "p = [0.2,0.2,0.2,0.2,0.2]\n",
    "world = ['green', 'red', 'red', 'green', 'green']\n",
    "Z = ['red','green']\n",
    "pHit = 0.6\n",
    "pMiss = 0.25\n",
    "def sense(p, Z):\n",
    "    q=[]\n",
    "    for i in range(len(p)):\n",
    "            hit = (Z == world[i])\n",
    "            q.append(p[i] * (hit * pHit + (1-hit)* pMiss))\n",
    "    s=sum(q)\n",
    "    for i in range(len(p)):\n",
    "        q[i]=q[i]/s\n",
    "    return q\n",
    "for i in range(6):\n",
    "    p= sense(p, Z[0])\n",
    "print(p)\n",
    "for i in range(4):\n",
    "    p= sense(p, Z[1])\n",
    "print(p)"
   ]
  },
  {
   "cell_type": "code",
   "execution_count": null,
   "metadata": {},
   "outputs": [],
   "source": []
  },
  {
   "cell_type": "code",
   "execution_count": 4,
   "metadata": {},
   "outputs": [
    {
     "name": "stdout",
     "output_type": "stream",
     "text": [
      "[0.05575898211245235, 0.4163615268313215, 0.4163615268313215, 0.05575898211245235, 0.05575898211245235]\n",
      "7.4671651285100795\n"
     ]
    }
   ],
   "source": [
    "#Many Measurments:\n",
    "\n",
    "p = [0.2, 0.2, 0.2, 0.2, 0.2]\n",
    "world = ['green', 'red', 'red', 'green', 'green']\n",
    "measurements = ['red','red','red','red','red','red','red','red']\n",
    "pHit = 0.54\n",
    "pMiss = 0.42\n",
    "def sense(p, Z):\n",
    "    q=[]\n",
    "    for i in range(len(p)):\n",
    "            hit = (Z == world[i])\n",
    "            q.append(p[i] * (hit * pHit + (1-hit)* pMiss))\n",
    "    s=sum(q)\n",
    "    for i in range(len(p)):\n",
    "        q[i]=q[i]/s\n",
    "    return q\n",
    "            \n",
    "for k in range(len(measurements)):\n",
    "    p=sense(p, measurements[k])\n",
    "print(p)\n",
    "print(p[1]/p[0])\n"
   ]
  },
  {
   "cell_type": "code",
   "execution_count": 5,
   "metadata": {},
   "outputs": [
    {
     "name": "stdout",
     "output_type": "stream",
     "text": [
      "2.4\n"
     ]
    }
   ],
   "source": [
    "p[1]/p[0]\n",
    "print(0.6/0.25)"
   ]
  },
  {
   "cell_type": "code",
   "execution_count": 6,
   "metadata": {},
   "outputs": [
    {
     "name": "stdout",
     "output_type": "stream",
     "text": [
      "[0, 1, 0, 0, 0]\n",
      "[0.2014260990401885, 0.2046169912633643, 0.2014260990401885, 0.19626540532813036, 0.1962654053281304]\n"
     ]
    }
   ],
   "source": [
    "p=[0, 1, 0, 0, 0]\n",
    "world=['green', 'red', 'red', 'green', 'green']\n",
    "measurements = ['red', 'green']\n",
    "pHit = 0.6\n",
    "pMiss = 0.2\n",
    "\n",
    "pExact = 0.8\n",
    "pOvershoot = 0.1\n",
    "pUndershoot = 0.1\n",
    "\n",
    "def sense(p, Z):\n",
    "    q=[]\n",
    "    for i in range(len(p)):\n",
    "        hit = (Z == world[i])\n",
    "        q.append(p[i] * (hit * pHit + (1-hit) * pMiss))\n",
    "    s = sum(q)\n",
    "    for i in range(len(q)):\n",
    "        q[i] = q[i] / s\n",
    "    return q\n",
    "\n",
    "def move(p, U):\n",
    "    q = []\n",
    "    for i in range(len(p)):\n",
    "        s = pExact * p[(i-U) % len(p)]\n",
    "        s = s + pOvershoot * p[(i-U-1) % len(p)]\n",
    "        s = s + pUndershoot * p[(i-U+1) % len(p)]\n",
    "        q.append(s)\n",
    "    return q\n",
    "\n",
    "# p=move(p,1)\n",
    "# p=move(p,1)\n",
    "# p=move(p,1)\n",
    "\n",
    "\n",
    "print(p)\n",
    "for i in range(30):\n",
    "    p=move(p,1)\n",
    "\n",
    "print(p)"
   ]
  },
  {
   "cell_type": "code",
   "execution_count": 33,
   "metadata": {},
   "outputs": [
    {
     "data": {
      "text/plain": [
       "[4, 5]"
      ]
     },
     "execution_count": 33,
     "metadata": {},
     "output_type": "execute_result"
    }
   ],
   "source": [
    "P=[1,2,3,4,5,6,7]\n",
    "P[-4:-2]"
   ]
  },
  {
   "cell_type": "code",
   "execution_count": null,
   "metadata": {},
   "outputs": [],
   "source": []
  },
  {
   "cell_type": "code",
   "execution_count": null,
   "metadata": {},
   "outputs": [],
   "source": []
  },
  {
   "cell_type": "code",
   "execution_count": null,
   "metadata": {},
   "outputs": [],
   "source": []
  },
  {
   "cell_type": "code",
   "execution_count": null,
   "metadata": {},
   "outputs": [],
   "source": []
  },
  {
   "cell_type": "code",
   "execution_count": 14,
   "metadata": {},
   "outputs": [
    {
     "name": "stdout",
     "output_type": "stream",
     "text": [
      "['green', 'red', 'red', 'green', 'green']\n",
      "[0.2, 0.2, 0.2, 0.2, 0.2]\n",
      "[0.04761904761904763, 0.42857142857142866, 0.42857142857142866, 0.04761904761904763, 0.04761904761904763]\n",
      "[0.21631285927669394, 0.010184221246548681, 0.003575793237677093, 0.14380120400126742, 0.6261259222378129]\n"
     ]
    }
   ],
   "source": [
    "\n",
    "# uncertenty:\n",
    "p=[0.2, 0.2 ,0.2, 0.2, 0.2]\n",
    "world=['green', 'red', 'red', 'green', 'green']\n",
    "measurements = ['red', 'green']\n",
    "\n",
    "pHit = 0.6\n",
    "pMiss = 0.2\n",
    "pExact = 0.8\n",
    "pOvershoot = 0.1\n",
    "pUndershoot = 0.1\n",
    "\n",
    "def sense(p, Z):\n",
    "    q=[]\n",
    "    for i in range(len(p)):\n",
    "        hit = (Z == world[i])\n",
    "        q.append(p[i] * (hit * pHit + (1-hit) * pMiss))\n",
    "    s = sum(q)\n",
    "    for i in range(len(q)):\n",
    "        q[i] = q[i] / s\n",
    "    return q\n",
    "\n",
    "def move(p, U):\n",
    "    q = []\n",
    "    for i in range(len(p)):\n",
    "        s = pExact * p[(i-U) % len(p)]\n",
    "        s = s + pOvershoot * p[(i-U-1) % len(p)]\n",
    "        s = s + pUndershoot * p[(i-U+1) % len(p)]\n",
    "        q.append(s)\n",
    "    return q\n",
    "print(world)\n",
    "print(p)\n",
    "#p= sense(p,measurements[0]) #red\n",
    "p = move(p, 1)\n",
    "p= sense(p,measurements[0]) # green\n",
    "p= sense(p,measurements[0]) # green\n",
    "\n",
    "print(p)\n",
    "p = move(p, 1)\n",
    "p= sense(p,measurements[1]) #green\n",
    "p= sense(p,measurements[1]) # green\n",
    "\n",
    "p=move(p,1)\n",
    "p= sense(p,measurements[1]) #green\n",
    "p= sense(p,measurements[1]) # green\n",
    "\n",
    "\n",
    "print(p)"
   ]
  },
  {
   "cell_type": "code",
   "execution_count": 11,
   "metadata": {},
   "outputs": [
    {
     "name": "stdout",
     "output_type": "stream",
     "text": [
      "[0.200235760069234, 0.2000728537888774, 0.1998092661765075, 0.19980926617650746, 0.2000728537888774]\n"
     ]
    }
   ],
   "source": [
    "p = [1,0,0, 0, 0]\n",
    "for i in range(50):\n",
    "    p = move(p,1)\n",
    "\n",
    "\n",
    "\n",
    "print(p)"
   ]
  },
  {
   "cell_type": "code",
   "execution_count": 7,
   "metadata": {},
   "outputs": [
    {
     "name": "stdout",
     "output_type": "stream",
     "text": [
      "2.2703962703962706\n"
     ]
    }
   ],
   "source": []
  },
  {
   "cell_type": "code",
   "execution_count": null,
   "metadata": {},
   "outputs": [],
   "source": []
  }
 ],
 "metadata": {
  "anaconda-cloud": {},
  "kernelspec": {
   "display_name": "Python 3 (ipykernel)",
   "language": "python",
   "name": "python3"
  },
  "language_info": {
   "codemirror_mode": {
    "name": "ipython",
    "version": 3
   },
   "file_extension": ".py",
   "mimetype": "text/x-python",
   "name": "python",
   "nbconvert_exporter": "python",
   "pygments_lexer": "ipython3",
   "version": "3.7.9"
  }
 },
 "nbformat": 4,
 "nbformat_minor": 1
}
