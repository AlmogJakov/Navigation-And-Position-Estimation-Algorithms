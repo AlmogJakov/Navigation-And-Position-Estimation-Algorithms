{
 "cells": [
  {
   "cell_type": "markdown",
   "metadata": {},
   "source": [
    "# Kalman"
   ]
  },
  {
   "cell_type": "code",
   "execution_count": 1,
   "metadata": {},
   "outputs": [],
   "source": [
    "import numpy as np\n",
    "from numpy.linalg import inv"
   ]
  },
  {
   "cell_type": "code",
   "execution_count": 2,
   "metadata": {
    "scrolled": true
   },
   "outputs": [
    {
     "data": {
      "text/plain": [
       "matrix([[1, 0],\n",
       "        [0, 1]])"
      ]
     },
     "execution_count": 2,
     "metadata": {},
     "output_type": "execute_result"
    }
   ],
   "source": [
    "a = np.matrix([[1,0],[0,1]])\n",
    "a.T"
   ]
  },
  {
   "cell_type": "markdown",
   "metadata": {},
   "source": [
    "# Initial F-Matrix, P-Matrix, State-Vector"
   ]
  },
  {
   "cell_type": "code",
   "execution_count": 3,
   "metadata": {},
   "outputs": [
    {
     "name": "stdout",
     "output_type": "stream",
     "text": [
      "F matrix is:\n",
      " [[1. 1.]\n",
      " [0. 1.]]\n",
      "\n",
      "P matrix is:\n",
      " [[4.   0.  ]\n",
      " [0.   1.44]]\n",
      "\n",
      "State Vector is:\n",
      " [[8]\n",
      " [5]]\n"
     ]
    }
   ],
   "source": [
    "stdPos = 2\n",
    "stdVel = 1.2\n",
    "pMatrix = np.matrix([[stdPos**2,0],[0,stdVel**2]])\n",
    "\n",
    "deltaT = 1.0\n",
    "fMatrix = np.matrix([[1,deltaT],[0,1]])\n",
    "\n",
    "initialPos_guess = 8\n",
    "initialVelocity_guess = 5\n",
    "x = np.matrix([[initialPos_guess],[initialVelocity_guess]])\n",
    "\n",
    "print(\"F matrix is:\\n\", fMatrix)\n",
    "print(\"\\nP matrix is:\\n\", pMatrix)\n",
    "print(\"\\nState Vector is:\\n\", x)"
   ]
  },
  {
   "cell_type": "markdown",
   "metadata": {},
   "source": [
    "# After Prediction"
   ]
  },
  {
   "cell_type": "code",
   "execution_count": 4,
   "metadata": {},
   "outputs": [
    {
     "name": "stdout",
     "output_type": "stream",
     "text": [
      "After Prediction:\n",
      "\n",
      "\n",
      "P matrix is:\n",
      " [[5.44 1.44]\n",
      " [1.44 1.44]]\n",
      "\n",
      "State Vector is:\n",
      " [[13.]\n",
      " [ 5.]]\n"
     ]
    }
   ],
   "source": [
    "Q_matrix = 0\n",
    "I = np.matrix([[1,0],[0,1]])\n",
    "x = fMatrix*x\n",
    "pMatrix = fMatrix*pMatrix*fMatrix.T + Q_matrix\n",
    "\n",
    "print(\"After Prediction:\\n\")\n",
    "\n",
    "print(\"\\nP matrix is:\\n\", pMatrix)\n",
    "print(\"\\nState Vector is:\\n\", x)"
   ]
  },
  {
   "cell_type": "markdown",
   "metadata": {},
   "source": [
    "#  Print R-Matrix, H-Matrix, meassurment(z)"
   ]
  },
  {
   "cell_type": "code",
   "execution_count": 5,
   "metadata": {},
   "outputs": [
    {
     "name": "stdout",
     "output_type": "stream",
     "text": [
      "R matrix is:\n",
      " [[ 0.25  0.  ]\n",
      " [ 0.   16.  ]]\n",
      "\n",
      "H matrix is:\n",
      " [[3.2808399 0.       ]\n",
      " [0.        1.       ]]\n",
      "\n",
      "meassurment (z) is:\n",
      " [[43]\n",
      " [ 4]]\n"
     ]
    }
   ],
   "source": [
    "factor = 1./0.3048\n",
    "std_sensor = 0.5\n",
    "velocity_sensor = 4\n",
    "# R_matrix = np.matrix([std_sensor**2])\n",
    "R_matrix = np.matrix([[std_sensor**2,0],[0,velocity_sensor**2]])\n",
    "H_matrix = np.matrix([[factor,0],[0,1.0]])\n",
    "z = np.matrix([[43],[4]])\n",
    "\n",
    "print(\"R matrix is:\\n\", R_matrix)\n",
    "print(\"\\nH matrix is:\\n\", H_matrix)\n",
    "print(\"\\nmeassurment (z) is:\\n\", z)"
   ]
  },
  {
   "cell_type": "markdown",
   "metadata": {},
   "source": [
    "# After Update"
   ]
  },
  {
   "cell_type": "code",
   "execution_count": 6,
   "metadata": {},
   "outputs": [
    {
     "name": "stdout",
     "output_type": "stream",
     "text": [
      "After Update:\n",
      "\n",
      "P matrix is:\n",
      " [[0.02312482 0.00574134]\n",
      " [0.00574134 0.99452888]]\n",
      "\n",
      "State Vector is:\n",
      " [[13.10557877]\n",
      " [ 4.96414369]]\n",
      "\n",
      "New Kalman Gain (K) is:\n",
      " [[0.30347538 0.00035883]\n",
      " [0.07534561 0.06215806]]\n"
     ]
    }
   ],
   "source": [
    "S = H_matrix*pMatrix*H_matrix.T + R_matrix\n",
    "# print(\"S matrix:\\n\", S)\n",
    "S = inv(S)\n",
    "# print(\"S matrix Reverse:\\n\", S)\n",
    "\n",
    "# print(\"\\nP matrix is:\\n\", pMatrix)\n",
    "# print(\"H matrix.T is:\\n\", H_matrix.T)\n",
    "# print(\"S matrix is:\\n\", S)\n",
    "\n",
    "K = pMatrix*H_matrix.T*S\n",
    "\n",
    "x = x + K*(z-H_matrix*x)\n",
    "\n",
    "# print(\"P matrix:\\n\", pMatrix)\n",
    "# print(\"K*H_matrix matrix*pMatrix:\\n\", K*H_matrix*pMatrix)\n",
    "\n",
    "pMatrix = (I - K*H_matrix)*pMatrix\n",
    "\n",
    "print(\"After Update:\")\n",
    "\n",
    "print(\"\\nP matrix is:\\n\", pMatrix)\n",
    "print(\"\\nState Vector is:\\n\", x)\n",
    "print(\"\\nNew Kalman Gain (K) is:\\n\", K)"
   ]
  },
  {
   "cell_type": "code",
   "execution_count": null,
   "metadata": {},
   "outputs": [],
   "source": []
  },
  {
   "cell_type": "code",
   "execution_count": null,
   "metadata": {},
   "outputs": [],
   "source": []
  },
  {
   "cell_type": "code",
   "execution_count": null,
   "metadata": {},
   "outputs": [],
   "source": []
  },
  {
   "cell_type": "code",
   "execution_count": null,
   "metadata": {},
   "outputs": [],
   "source": []
  }
 ],
 "metadata": {
  "anaconda-cloud": {},
  "kernelspec": {
   "display_name": "Python 3 (ipykernel)",
   "language": "python",
   "name": "python3"
  },
  "language_info": {
   "codemirror_mode": {
    "name": "ipython",
    "version": 3
   },
   "file_extension": ".py",
   "mimetype": "text/x-python",
   "name": "python",
   "nbconvert_exporter": "python",
   "pygments_lexer": "ipython3",
   "version": "3.7.9"
  }
 },
 "nbformat": 4,
 "nbformat_minor": 1
}
