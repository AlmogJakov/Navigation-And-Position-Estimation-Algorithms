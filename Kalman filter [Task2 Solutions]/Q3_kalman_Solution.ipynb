{
 "cells": [
  {
   "cell_type": "markdown",
   "metadata": {},
   "source": [
    "# Kalman"
   ]
  },
  {
   "cell_type": "code",
   "execution_count": 1,
   "metadata": {},
   "outputs": [
    {
     "name": "stdout",
     "output_type": "stream",
     "text": [
      "After Update:\n",
      "\n",
      "P matrix is:\n",
      " [[4.   0.  ]\n",
      " [0.   1.44]]\n",
      "\n",
      "State Vector is:\n",
      " [[13.10594766]\n",
      " [ 5.02804497]]\n",
      "\n",
      "New Kalman Gain (K) is:\n",
      " [[0.30350421]\n",
      " [0.08033935]]\n"
     ]
    }
   ],
   "source": [
    "import numpy as np\n",
    "from numpy.linalg import inv\n",
    "\n",
    "def kalman(h,f,p,x,z,r):\n",
    "    Q_matrix = 0\n",
    "    I = np.matrix([[1,0],[0,1]])\n",
    "    # Calc X\n",
    "    x = f*x\n",
    "    # Calc P\n",
    "    p = f*p*f.T + Q_matrix\n",
    "    # Update & print\n",
    "    S = h*p*h.T + r\n",
    "    S = inv(S)\n",
    "    K = p*h.T*S\n",
    "    x = x + K*(z-h*x)\n",
    "    p = (I - K*h)*p\n",
    "    print(\"After Update:\")\n",
    "    print(\"\\nP matrix is:\\n\", pMatrix)\n",
    "    print(\"\\nState Vector is:\\n\", x)\n",
    "    print(\"\\nNew Kalman Gain (K) is:\\n\", K)\n",
    "    \n",
    "if __name__ == \"__main__\":\n",
    "    # H matrix\n",
    "    factor = 1./0.3048\n",
    "    hMatrix = np.matrix([factor,0])\n",
    "    # F matrix\n",
    "    deltaT = 1.0\n",
    "    fMatrix = np.matrix([[1,deltaT],[0,1]])\n",
    "    # P matrix\n",
    "    stdPos = 2\n",
    "    stdVel = 1.2\n",
    "    pMatrix = np.matrix([[stdPos**2,0],[0,stdVel**2]])\n",
    "    # X matrix\n",
    "    initialPos_guess = 8\n",
    "    initialVelocity_guess = 5\n",
    "    xMatrix = np.matrix([[initialPos_guess],[initialVelocity_guess]])\n",
    "    # Z matrix\n",
    "    zMatrix = np.matrix([43])\n",
    "    # R matrix\n",
    "    std_sensor = 0.5\n",
    "    rMatrix = np.matrix([std_sensor**2])\n",
    "    kalman(hMatrix,fMatrix,pMatrix,xMatrix,zMatrix,rMatrix)\n"
   ]
  },
  {
   "cell_type": "code",
   "execution_count": null,
   "metadata": {},
   "outputs": [],
   "source": []
  },
  {
   "cell_type": "code",
   "execution_count": null,
   "metadata": {},
   "outputs": [],
   "source": []
  },
  {
   "cell_type": "code",
   "execution_count": null,
   "metadata": {},
   "outputs": [],
   "source": []
  }
 ],
 "metadata": {
  "anaconda-cloud": {},
  "kernelspec": {
   "display_name": "Python 3 (ipykernel)",
   "language": "python",
   "name": "python3"
  },
  "language_info": {
   "codemirror_mode": {
    "name": "ipython",
    "version": 3
   },
   "file_extension": ".py",
   "mimetype": "text/x-python",
   "name": "python",
   "nbconvert_exporter": "python",
   "pygments_lexer": "ipython3",
   "version": "3.7.9"
  }
 },
 "nbformat": 4,
 "nbformat_minor": 1
}
