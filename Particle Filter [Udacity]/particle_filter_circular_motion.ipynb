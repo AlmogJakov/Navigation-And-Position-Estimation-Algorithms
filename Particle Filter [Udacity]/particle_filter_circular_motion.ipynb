{
 "cells": [
  {
   "cell_type": "markdown",
   "metadata": {},
   "source": [
    "# Particle Filter - Circular Motion"
   ]
  },
  {
   "cell_type": "code",
   "execution_count": 7,
   "metadata": {},
   "outputs": [],
   "source": [
    "# USER INSTRUCTIONS\n",
    "#\n",
    "# Write a function in the class robot called move()\n",
    "#\n",
    "# that takes self and a motion vector (this motion vector contains a steering* angle and a distance)\n",
    "# as input and returns an instance of the class robot with the appropriate x, y, and orientation\n",
    "# for the given motion.\n",
    "# *steering is defined in the video which accompanies this problem.\n",
    "# \n",
    "# For now, please do NOT add noise to your move function.\n",
    "# Please do not modify anything except where indicated below.\n",
    "# \n",
    "# There are test cases which you are free to use at the bottom.\n",
    "# If you uncomment them for testing, make sure you re-comment them before you submit.\n",
    "#\n",
    "# https://www.youtube.com/watch?v=5lWj1FMkq5I\n",
    "# https://www.youtube.com/watch?v=tP3FKUG1xxM"
   ]
  },
  {
   "cell_type": "markdown",
   "metadata": {},
   "source": [
    "# Import"
   ]
  },
  {
   "cell_type": "code",
   "execution_count": 8,
   "metadata": {},
   "outputs": [],
   "source": [
    "from math import *\n",
    "import random\n",
    "import math"
   ]
  },
  {
   "cell_type": "code",
   "execution_count": 9,
   "metadata": {},
   "outputs": [],
   "source": [
    "# the \"world\" has 4 landmarks.\n",
    "# the robot's initial coordinates are somewhere in the square\n",
    "# represented by the landmarks.\n",
    "#\n",
    "# NOTE: Landmark coordinates are given in (y, x) form and NOT\n",
    "# in the traditional (x, y) format!\n",
    "\n",
    "landmarks  = [[0.0, 100.0], [0.0, 0.0], [100.0, 0.0], [100.0, 100.0]] # position of 4 landmarks\n",
    "world_size = 100.0 # world is NOT cyclic. Robot is allowed to travel \"out of bounds\"\n",
    "max_steering_angle = pi/4 # You don't need to use this value, but it is good to keep in mind the limitations of a real car."
   ]
  },
  {
   "cell_type": "markdown",
   "metadata": {},
   "source": [
    "#  The Robot Class"
   ]
  },
  {
   "cell_type": "code",
   "execution_count": 10,
   "metadata": {},
   "outputs": [],
   "source": [
    "class robot:\n",
    "    \n",
    "    # init: creates robot and initializes location/orientation \n",
    "    \n",
    "    def __init__(self, length = 10.0):\n",
    "        self.x = random.random() * world_size # initial x position\n",
    "        self.y = random.random() * world_size # initial y position\n",
    "        self.orientation = random.random() * 2.0 * pi # initial orientation\n",
    "        self.length = length # length of robot\n",
    "        self.bearing_noise  = 0.0 # initialize bearing noise to zero\n",
    "        self.steering_noise = 0.0 # initialize steering noise to zero\n",
    "        self.distance_noise = 0.0 # initialize distance noise to zero\n",
    "    \n",
    "    def __repr__(self):\n",
    "        return '[x=%.6s y=%.6s orient=%.6s]' % (str(self.x), str(self.y), str(self.orientation))\n",
    "    \n",
    "    \n",
    "    # set: sets a robot coordinate\n",
    "\n",
    "    def set(self, new_x, new_y, new_orientation):\n",
    "\n",
    "        if new_orientation < 0 or new_orientation >= 2 * pi:\n",
    "            raise ValueError('Orientation must be in [0..2pi]')\n",
    "        self.x = float(new_x)\n",
    "        self.y = float(new_y)\n",
    "        self.orientation = float(new_orientation)\n",
    "\n",
    "    \n",
    "    # set_noise: sets the noise parameters\n",
    "    \n",
    "    def set_noise(self, new_b_noise, new_s_noise, new_d_noise):\n",
    "        # makes it possible to change the noise parameters\n",
    "        # this is often useful in particle filters\n",
    "        self.bearing_noise  = float(new_b_noise)\n",
    "        self.steering_noise = float(new_s_noise)\n",
    "        self.distance_noise = float(new_d_noise)\n",
    "        \n",
    "        \n",
    "    #################################################################\n",
    "    ############# ONLY ADD/MODIFY CODE BELOW HERE ###################\n",
    "    #################################################################\n",
    "            \n",
    "    # move: move along a section of a circular path according to motion\n",
    "    \n",
    "    def move(self, motion): # Do not change the name of this function\n",
    "        steeringangle = motion[0]\n",
    "        distance = motion[1]\n",
    "        \n",
    "        length = self.length\n",
    "        turningangle = (distance/length)*math.tan(steeringangle) # B\n",
    "        if abs(turningangle) < 0.001: # no turning\n",
    "            new_x = self.x + distance*math.cos(self.orientation)\n",
    "            new_y = self.y + distance*math.sin(self.orientation)\n",
    "            new_orientation = self.orientation\n",
    "        else: \n",
    "            turningradius = distance/turningangle # R\n",
    "            cx = self.x - math.sin(self.orientation)*turningradius\n",
    "            cy = self.y + math.cos(self.orientation)*turningradius\n",
    "            new_x = cx + math.sin(self.orientation+turningangle)*turningradius\n",
    "            new_y = cy - math.cos(self.orientation+turningangle)*turningradius\n",
    "            new_orientation = (self.orientation+turningangle) % (2*pi)\n",
    "            \n",
    "        result = robot(length)\n",
    "        result.set(new_x, new_y, new_orientation)\n",
    "        \n",
    "        return result \n",
    "    \n",
    "    # (make sure your move function returns an instance of the robot class with the correct coordinates).\n",
    "                      \n",
    "    #################################################################\n",
    "    ############# ONLY ADD/MODIFY CODE BELOW HERE ###################\n",
    "    #################################################################"
   ]
  },
  {
   "cell_type": "markdown",
   "metadata": {},
   "source": [
    "# Test Case 1"
   ]
  },
  {
   "cell_type": "code",
   "execution_count": 11,
   "metadata": {},
   "outputs": [
    {
     "name": "stdout",
     "output_type": "stream",
     "text": [
      "Robot:      [x=0.0 y=0.0 orient=0.0]\n",
      "Robot:      [x=10.0 y=0.0 orient=0.0]\n",
      "Robot:      [x=19.861 y=1.4333 orient=0.2886]\n",
      "Robot:      [x=39.034 y=7.1270 orient=0.2886]\n"
     ]
    }
   ],
   "source": [
    "length = 20.\n",
    "bearing_noise  = 0.0\n",
    "steering_noise = 0.0\n",
    "distance_noise = 0.0\n",
    "\n",
    "myrobot = robot(length)\n",
    "myrobot.set(0.0, 0.0, 0.0)\n",
    "myrobot.set_noise(bearing_noise, steering_noise, distance_noise)\n",
    "\n",
    "motions = [[0.0, 10.0], [pi / 6.0, 10], [0.0, 20.0]]\n",
    "\n",
    "T = len(motions)\n",
    "\n",
    "print('Robot:     ', myrobot)\n",
    "for t in range(T):\n",
    "    myrobot=myrobot.move(motions[t])\n",
    "    print('Robot:     ', myrobot)\n",
    "    \n",
    "## 1) The following code should print:\n",
    "##       Robot:     [x=0.0 y=0.0 orient=0.0]\n",
    "##       Robot:     [x=10.0 y=0.0 orient=0.0]\n",
    "##       Robot:     [x=19.861 y=1.4333 orient=0.2886]\n",
    "##       Robot:     [x=39.034 y=7.1270 orient=0.2886]"
   ]
  },
  {
   "cell_type": "markdown",
   "metadata": {},
   "source": [
    "# Test Case 2"
   ]
  },
  {
   "cell_type": "code",
   "execution_count": 12,
   "metadata": {},
   "outputs": [
    {
     "name": "stdout",
     "output_type": "stream",
     "text": [
      "Robot:      [x=0.0 y=0.0 orient=0.0]\n",
      "Robot:      [x=9.9828 y=0.5063 orient=0.1013]\n",
      "Robot:      [x=19.863 y=2.0201 orient=0.2027]\n",
      "Robot:      [x=29.539 y=4.5259 orient=0.3040]\n",
      "Robot:      [x=38.913 y=7.9979 orient=0.4054]\n",
      "Robot:      [x=47.887 y=12.400 orient=0.5067]\n",
      "Robot:      [x=56.369 y=17.688 orient=0.6081]\n",
      "Robot:      [x=64.273 y=23.807 orient=0.7094]\n",
      "Robot:      [x=71.517 y=30.695 orient=0.8108]\n",
      "Robot:      [x=78.027 y=38.280 orient=0.9121]\n",
      "Robot:      [x=83.736 y=46.485 orient=1.0135]\n"
     ]
    }
   ],
   "source": [
    "length = 20.\n",
    "bearing_noise  = 0.0\n",
    "steering_noise = 0.0\n",
    "distance_noise = 0.0\n",
    "\n",
    "myrobot = robot(length)\n",
    "myrobot.set(0.0, 0.0, 0.0)\n",
    "myrobot.set_noise(bearing_noise, steering_noise, distance_noise)\n",
    "\n",
    "motions = [[0.2, 10.] for row in range(10)]\n",
    "\n",
    "T = len(motions)\n",
    "\n",
    "print('Robot:     ', myrobot)\n",
    "for t in range(T):\n",
    "   myrobot = myrobot.move(motions[t])\n",
    "   print('Robot:     ', myrobot)\n",
    "    \n",
    "## 2) The following code should print:\n",
    "##      Robot:     [x=0.0 y=0.0 orient=0.0]\n",
    "##      Robot:     [x=9.9828 y=0.5063 orient=0.1013]\n",
    "##      Robot:     [x=19.863 y=2.0201 orient=0.2027]\n",
    "##      Robot:     [x=29.539 y=4.5259 orient=0.3040]\n",
    "##      Robot:     [x=38.913 y=7.9979 orient=0.4054]\n",
    "##      Robot:     [x=47.887 y=12.400 orient=0.5067]\n",
    "##      Robot:     [x=56.369 y=17.688 orient=0.6081]\n",
    "##      Robot:     [x=64.273 y=23.807 orient=0.7094]\n",
    "##      Robot:     [x=71.517 y=30.695 orient=0.8108]\n",
    "##      Robot:     [x=78.027 y=38.280 orient=0.9121]\n",
    "##      Robot:     [x=83.736 y=46.485 orient=1.0135]"
   ]
  },
  {
   "cell_type": "code",
   "execution_count": null,
   "metadata": {},
   "outputs": [],
   "source": []
  },
  {
   "cell_type": "code",
   "execution_count": null,
   "metadata": {},
   "outputs": [],
   "source": []
  },
  {
   "cell_type": "code",
   "execution_count": null,
   "metadata": {},
   "outputs": [],
   "source": []
  }
 ],
 "metadata": {
  "anaconda-cloud": {},
  "kernelspec": {
   "display_name": "Python 3 (ipykernel)",
   "language": "python",
   "name": "python3"
  },
  "language_info": {
   "codemirror_mode": {
    "name": "ipython",
    "version": 3
   },
   "file_extension": ".py",
   "mimetype": "text/x-python",
   "name": "python",
   "nbconvert_exporter": "python",
   "pygments_lexer": "ipython3",
   "version": "3.7.9"
  }
 },
 "nbformat": 4,
 "nbformat_minor": 1
}
