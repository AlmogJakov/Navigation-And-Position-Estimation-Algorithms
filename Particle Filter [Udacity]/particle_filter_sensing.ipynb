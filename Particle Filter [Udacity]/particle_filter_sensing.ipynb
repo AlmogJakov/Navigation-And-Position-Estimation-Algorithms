{
 "cells": [
  {
   "cell_type": "markdown",
   "metadata": {},
   "source": [
    "# Particle Filter - Sensing"
   ]
  },
  {
   "cell_type": "code",
   "execution_count": 8,
   "metadata": {},
   "outputs": [],
   "source": [
    "# USER INSTRUCTIONS\n",
    "#\n",
    "# Write a function in the class robot called sense() that takes self as input\n",
    "# and returns a list, Z, of the four bearings* to the 4\n",
    "# different landmarks. you will have to use the robot's\n",
    "# x and y position, as well as its orientation, to compute this.\n",
    "# *bearing is defined in the video which accompanies this problem.\n",
    "# For now, please do NOT add noise to your sense function.\n",
    "# Please do not modify anything except where indicated below.\n",
    "# There are test cases provided at the bottom which you are\n",
    "# free to use. If you uncomment any of these cases for testing\n",
    "# make sure that you re-comment it before you submit.\n",
    "#\n",
    "# https://www.youtube.com/watch?v=NIKU0S1kxP8&t=123s\n",
    "# https://www.youtube.com/watch?v=fiuQ4zm10NQ&t=1s"
   ]
  },
  {
   "cell_type": "markdown",
   "metadata": {},
   "source": [
    "# Import"
   ]
  },
  {
   "cell_type": "code",
   "execution_count": 9,
   "metadata": {},
   "outputs": [],
   "source": [
    "from math import *\n",
    "import random"
   ]
  },
  {
   "cell_type": "code",
   "execution_count": 10,
   "metadata": {},
   "outputs": [],
   "source": [
    "# the \"world\" has 4 landmarks.\n",
    "# the robot's initial coordinates are somewhere in the square\n",
    "# represented by the landmarks.\n",
    "#\n",
    "# NOTE: Landmark coordinates are given in (y, x) form and NOT\n",
    "# in the traditional (x, y) format!\n",
    "\n",
    "landmarks  = [[0.0, 100.0], [0.0, 0.0], [100.0, 0.0], [100.0, 100.0]] # position of 4 landmarks in (y, x) form.\n",
    "world_size = 100.0 # world is NOT cyclic. Robot is allowed to travel \"out of bounds\""
   ]
  },
  {
   "cell_type": "markdown",
   "metadata": {},
   "source": [
    "#  The Robot Class"
   ]
  },
  {
   "cell_type": "code",
   "execution_count": 11,
   "metadata": {},
   "outputs": [],
   "source": [
    "class robot:\n",
    "\n",
    "    # init: creates robot and initializes location/orientation\n",
    "\n",
    "    def __init__(self, length = 10.0):\n",
    "        self.x = random.random() * world_size # initial x position\n",
    "        self.y = random.random() * world_size # initial y position\n",
    "        self.orientation = random.random() * 2.0 * pi # initial orientation\n",
    "        self.length = length # length of robot\n",
    "        self.bearing_noise  = 0.0 # initialize bearing noise to zero\n",
    "        self.steering_noise = 0.0 # initialize steering noise to zero\n",
    "        self.distance_noise = 0.0 # initialize distance noise to zero\n",
    "\n",
    "\n",
    "    def __repr__(self):\n",
    "        return '[x=%.6s y=%.6s orient=%.6s]' % (str(self.x), str(self.y), str(self.orientation))\n",
    "\n",
    "\n",
    "    # set: sets a robot coordinate\n",
    "\n",
    "    def set(self, new_x, new_y, new_orientation):\n",
    "        if new_orientation < 0 or new_orientation >= 2 * pi:\n",
    "            raise ValueError('Orientation must be in [0..2pi]')\n",
    "        self.x = float(new_x)\n",
    "        self.y = float(new_y)\n",
    "        self.orientation = float(new_orientation)\n",
    "\n",
    "    \n",
    "    # set_noise: sets the noise parameters\n",
    "\n",
    "    def set_noise(self, new_b_noise, new_s_noise, new_d_noise):\n",
    "        # makes it possible to change the noise parameters\n",
    "        # this is often useful in particle filters\n",
    "        self.bearing_noise  = float(new_b_noise)\n",
    "        self.steering_noise = float(new_s_noise)\n",
    "        self.distance_noise = float(new_d_noise)\n",
    "\n",
    "    #################################################################\n",
    "    ############# ONLY ADD/MODIFY CODE BELOW HERE ###################\n",
    "    #################################################################\n",
    "    \n",
    "    # sense: obtains bearings from positions\n",
    "    \n",
    "    def sense(self, add_noise=1):  # add_noise value not neccecery now\n",
    "        # ENTER CODE HERE\n",
    "        # HINT: You will probably need to use the function atan2()\n",
    "        landmarks1 = landmarks[0]\n",
    "        landmarks2 = landmarks[1]\n",
    "        landmarks3 = landmarks[2]\n",
    "        landmarks4 = landmarks[3]\n",
    "        \n",
    "        l1 = atan2(landmarks1[0]-self.y ,landmarks1[1]-self.x) - self.orientation\n",
    "        l1 = l1 % (2.0 * pi)\n",
    "        if add_noise: # not neccecery now\n",
    "            l1 += random.gauss(0.0, self.bearing_noise)\n",
    "        \n",
    "        l2 = atan2(landmarks2[0]-self.y ,landmarks2[1]-self.x) - self.orientation\n",
    "        l2 = l2 % (2.0 * pi)\n",
    "        if add_noise: # not neccecery now\n",
    "            l2 += random.gauss(0.0, self.bearing_noise)\n",
    "        \n",
    "        l3 = atan2(landmarks3[0]-self.y ,landmarks3[1]-self.x) - self.orientation\n",
    "        l3 = l3 % (2.0 * pi)\n",
    "        if add_noise: # not neccecery now\n",
    "            l3 += random.gauss(0.0, self.bearing_noise)\n",
    "        \n",
    "        l4 = atan2(landmarks4[0]-self.y ,landmarks4[1]-self.x) - self.orientation\n",
    "        l4 = l4 % (2.0 * pi)\n",
    "        if add_noise: # not neccecery now\n",
    "            l4 += random.gauss(0.0, self.bearing_noise)\n",
    "        \n",
    "        Z = [l1,l2,l3,l4]\n",
    "\n",
    "        return Z #Leave this line here. Return vector Z of 4 bearings.\n",
    "    \n",
    "    #################################################################\n",
    "    ############# ONLY ADD/MODIFY CODE BELOW HERE ###################\n",
    "    #################################################################"
   ]
  },
  {
   "cell_type": "markdown",
   "metadata": {},
   "source": [
    "# Test Case 1"
   ]
  },
  {
   "cell_type": "code",
   "execution_count": 12,
   "metadata": {},
   "outputs": [
    {
     "name": "stdout",
     "output_type": "stream",
     "text": [
      "Robot:         [x=30.0 y=20.0 orient=0.0]\n",
      "Measurements:  [6.004885648174475, 3.7295952571373605, 1.9295669970654687, 0.8519663271732721]\n"
     ]
    }
   ],
   "source": [
    "length = 20.\n",
    "bearing_noise  = 0.0\n",
    "steering_noise = 0.0\n",
    "distance_noise = 0.0\n",
    "\n",
    "myrobot = robot(length)\n",
    "myrobot.set(30.0, 20.0, 0.0)\n",
    "myrobot.set_noise(bearing_noise, steering_noise, distance_noise)\n",
    "\n",
    "print('Robot:        ', myrobot)\n",
    "print('Measurements: ', myrobot.sense())\n",
    "    \n",
    "## 1) The following code should print the list [6.004885648174475, 3.7295952571373605, 1.9295669970654687, 0.8519663271732721]"
   ]
  },
  {
   "cell_type": "markdown",
   "metadata": {},
   "source": [
    "# Test Case 2"
   ]
  },
  {
   "cell_type": "code",
   "execution_count": 13,
   "metadata": {},
   "outputs": [
    {
     "name": "stdout",
     "output_type": "stream",
     "text": [
      "Robot:         [x=30.0 y=20.0 orient=0.6283]\n",
      "Measurements:  [5.376567117456516, 3.101276726419402, 1.3012484663475101, 0.22364779645531352]\n"
     ]
    }
   ],
   "source": [
    "length = 20.\n",
    "bearing_noise  = 0.0\n",
    "steering_noise = 0.0\n",
    "distance_noise = 0.0\n",
    "\n",
    "myrobot = robot(length)\n",
    "myrobot.set(30.0, 20.0, pi / 5.0)\n",
    "myrobot.set_noise(bearing_noise, steering_noise, distance_noise)\n",
    "\n",
    "print('Robot:        ', myrobot)\n",
    "print('Measurements: ', myrobot.sense())\n",
    "    \n",
    "## 2) The following code should print the list [5.376567117456516, 3.101276726419402, 1.3012484663475101, 0.22364779645531352]"
   ]
  },
  {
   "cell_type": "code",
   "execution_count": null,
   "metadata": {},
   "outputs": [],
   "source": []
  },
  {
   "cell_type": "code",
   "execution_count": null,
   "metadata": {},
   "outputs": [],
   "source": []
  },
  {
   "cell_type": "code",
   "execution_count": null,
   "metadata": {},
   "outputs": [],
   "source": []
  }
 ],
 "metadata": {
  "anaconda-cloud": {},
  "kernelspec": {
   "display_name": "Python 3 (ipykernel)",
   "language": "python",
   "name": "python3"
  },
  "language_info": {
   "codemirror_mode": {
    "name": "ipython",
    "version": 3
   },
   "file_extension": ".py",
   "mimetype": "text/x-python",
   "name": "python",
   "nbconvert_exporter": "python",
   "pygments_lexer": "ipython3",
   "version": "3.7.9"
  }
 },
 "nbformat": 4,
 "nbformat_minor": 1
}
